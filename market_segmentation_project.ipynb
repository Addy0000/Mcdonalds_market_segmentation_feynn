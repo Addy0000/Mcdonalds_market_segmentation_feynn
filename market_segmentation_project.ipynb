{
 "cells": [
  {
   "cell_type": "code",
   "execution_count": 132,
   "metadata": {
    "collapsed": true
   },
   "outputs": [],
   "source": [
    "import numpy as np\n",
    "import pandas as pd\n",
    "import matplotlib.pyplot as plt\n",
    "from sklearn.decomposition import PCA\n",
    "from sklearn.cluster import KMeans\n",
    "from sklearn.preprocessing import StandardScaler"
   ]
  },
  {
   "cell_type": "code",
   "execution_count": 133,
   "outputs": [
    {
     "data": {
      "text/plain": "['yummy',\n 'convenient',\n 'spicy',\n 'fattening',\n 'greasy',\n 'fast',\n 'cheap',\n 'tasty',\n 'expensive',\n 'healthy',\n 'disgusting',\n 'Like',\n 'Age',\n 'VisitFrequency',\n 'Gender']"
     },
     "execution_count": 133,
     "metadata": {},
     "output_type": "execute_result"
    }
   ],
   "source": [
    "mcdonalds = pd.read_csv(\"mcdonalds.csv\")\n",
    "list(mcdonalds.columns)\n"
   ],
   "metadata": {
    "collapsed": false
   }
  },
  {
   "cell_type": "code",
   "execution_count": 134,
   "outputs": [
    {
     "data": {
      "text/plain": "(1453, 15)"
     },
     "execution_count": 134,
     "metadata": {},
     "output_type": "execute_result"
    }
   ],
   "source": [
    "mcdonalds.shape"
   ],
   "metadata": {
    "collapsed": false
   }
  },
  {
   "cell_type": "code",
   "execution_count": 135,
   "outputs": [
    {
     "data": {
      "text/plain": "  yummy convenient spicy fattening greasy fast cheap tasty expensive healthy  \\\n0    No        Yes    No       Yes     No  Yes   Yes    No       Yes      No   \n1   Yes        Yes    No       Yes    Yes  Yes   Yes   Yes       Yes      No   \n2    No        Yes   Yes       Yes    Yes  Yes    No   Yes       Yes     Yes   \n3   Yes        Yes    No       Yes    Yes  Yes   Yes   Yes        No      No   \n4    No        Yes    No       Yes    Yes  Yes   Yes    No        No     Yes   \n\n  disgusting Like  Age      VisitFrequency  Gender  \n0         No   -3   61  Every three months  Female  \n1         No   +2   51  Every three months  Female  \n2         No   +1   62  Every three months  Female  \n3        Yes   +4   69         Once a week  Female  \n4         No   +2   49        Once a month    Male  ",
      "text/html": "<div>\n<style scoped>\n    .dataframe tbody tr th:only-of-type {\n        vertical-align: middle;\n    }\n\n    .dataframe tbody tr th {\n        vertical-align: top;\n    }\n\n    .dataframe thead th {\n        text-align: right;\n    }\n</style>\n<table border=\"1\" class=\"dataframe\">\n  <thead>\n    <tr style=\"text-align: right;\">\n      <th></th>\n      <th>yummy</th>\n      <th>convenient</th>\n      <th>spicy</th>\n      <th>fattening</th>\n      <th>greasy</th>\n      <th>fast</th>\n      <th>cheap</th>\n      <th>tasty</th>\n      <th>expensive</th>\n      <th>healthy</th>\n      <th>disgusting</th>\n      <th>Like</th>\n      <th>Age</th>\n      <th>VisitFrequency</th>\n      <th>Gender</th>\n    </tr>\n  </thead>\n  <tbody>\n    <tr>\n      <th>0</th>\n      <td>No</td>\n      <td>Yes</td>\n      <td>No</td>\n      <td>Yes</td>\n      <td>No</td>\n      <td>Yes</td>\n      <td>Yes</td>\n      <td>No</td>\n      <td>Yes</td>\n      <td>No</td>\n      <td>No</td>\n      <td>-3</td>\n      <td>61</td>\n      <td>Every three months</td>\n      <td>Female</td>\n    </tr>\n    <tr>\n      <th>1</th>\n      <td>Yes</td>\n      <td>Yes</td>\n      <td>No</td>\n      <td>Yes</td>\n      <td>Yes</td>\n      <td>Yes</td>\n      <td>Yes</td>\n      <td>Yes</td>\n      <td>Yes</td>\n      <td>No</td>\n      <td>No</td>\n      <td>+2</td>\n      <td>51</td>\n      <td>Every three months</td>\n      <td>Female</td>\n    </tr>\n    <tr>\n      <th>2</th>\n      <td>No</td>\n      <td>Yes</td>\n      <td>Yes</td>\n      <td>Yes</td>\n      <td>Yes</td>\n      <td>Yes</td>\n      <td>No</td>\n      <td>Yes</td>\n      <td>Yes</td>\n      <td>Yes</td>\n      <td>No</td>\n      <td>+1</td>\n      <td>62</td>\n      <td>Every three months</td>\n      <td>Female</td>\n    </tr>\n    <tr>\n      <th>3</th>\n      <td>Yes</td>\n      <td>Yes</td>\n      <td>No</td>\n      <td>Yes</td>\n      <td>Yes</td>\n      <td>Yes</td>\n      <td>Yes</td>\n      <td>Yes</td>\n      <td>No</td>\n      <td>No</td>\n      <td>Yes</td>\n      <td>+4</td>\n      <td>69</td>\n      <td>Once a week</td>\n      <td>Female</td>\n    </tr>\n    <tr>\n      <th>4</th>\n      <td>No</td>\n      <td>Yes</td>\n      <td>No</td>\n      <td>Yes</td>\n      <td>Yes</td>\n      <td>Yes</td>\n      <td>Yes</td>\n      <td>No</td>\n      <td>No</td>\n      <td>Yes</td>\n      <td>No</td>\n      <td>+2</td>\n      <td>49</td>\n      <td>Once a month</td>\n      <td>Male</td>\n    </tr>\n  </tbody>\n</table>\n</div>"
     },
     "execution_count": 135,
     "metadata": {},
     "output_type": "execute_result"
    }
   ],
   "source": [
    "mcdonalds.head()"
   ],
   "metadata": {
    "collapsed": false
   }
  },
  {
   "cell_type": "code",
   "execution_count": 136,
   "outputs": [
    {
     "name": "stdout",
     "output_type": "stream",
     "text": [
      "<class 'pandas.core.frame.DataFrame'>\n",
      "RangeIndex: 1453 entries, 0 to 1452\n",
      "Data columns (total 15 columns):\n",
      " #   Column          Non-Null Count  Dtype \n",
      "---  ------          --------------  ----- \n",
      " 0   yummy           1453 non-null   object\n",
      " 1   convenient      1453 non-null   object\n",
      " 2   spicy           1453 non-null   object\n",
      " 3   fattening       1453 non-null   object\n",
      " 4   greasy          1453 non-null   object\n",
      " 5   fast            1453 non-null   object\n",
      " 6   cheap           1453 non-null   object\n",
      " 7   tasty           1453 non-null   object\n",
      " 8   expensive       1453 non-null   object\n",
      " 9   healthy         1453 non-null   object\n",
      " 10  disgusting      1453 non-null   object\n",
      " 11  Like            1453 non-null   object\n",
      " 12  Age             1453 non-null   int64 \n",
      " 13  VisitFrequency  1453 non-null   object\n",
      " 14  Gender          1453 non-null   object\n",
      "dtypes: int64(1), object(14)\n",
      "memory usage: 170.4+ KB\n"
     ]
    }
   ],
   "source": [
    "mcdonalds.info()"
   ],
   "metadata": {
    "collapsed": false
   }
  },
  {
   "cell_type": "code",
   "execution_count": 137,
   "outputs": [
    {
     "data": {
      "text/plain": "array([0.55, 0.91, 0.09, 0.87, 0.53, 0.9 , 0.6 , 0.64, 0.36, 0.2 , 0.24])"
     },
     "execution_count": 137,
     "metadata": {},
     "output_type": "execute_result"
    }
   ],
   "source": [
    "MD_x = mcdonalds.iloc[:, 0:11].values\n",
    "MD_x = (MD_x == \"Yes\") + 0\n",
    "col_means = np.mean(MD_x, axis=0)\n",
    "col_means_rounded = np.round(col_means, 2)\n",
    "col_means_rounded"
   ],
   "metadata": {
    "collapsed": false
   }
  },
  {
   "cell_type": "code",
   "execution_count": 138,
   "outputs": [
    {
     "name": "stdout",
     "output_type": "stream",
     "text": [
      "standard_deviation: [0.75704952 0.60745556 0.50461946 0.39879859 0.33740501 0.31027461\n",
      " 0.28969732 0.27512196 0.2652511  0.24884182 0.23690284]\n",
      "proportion_of_variance [0.29944723 0.19279721 0.13304535 0.08309578 0.05948052 0.05029956\n",
      " 0.0438491  0.03954779 0.0367609  0.03235329 0.02932326]\n",
      "cumulative proportion [0.29945 0.49224 0.62529 0.70839 0.76787 0.81817 0.86201 0.90156 0.93832\n",
      " 0.97068 1.     ]\n"
     ]
    }
   ],
   "source": [
    "pca = PCA()\n",
    "MD_pca = pca.fit(MD_x)\n",
    "\n",
    "standard_deviation = np.sqrt(MD_pca.explained_variance_)\n",
    "proportion_of_variance = MD_pca.explained_variance_ratio_\n",
    "cumulative_proportion = np.round(np.cumsum(proportion_of_variance), 5)\n",
    "\n",
    "print(\"standard_deviation:\", standard_deviation)\n",
    "print(\"proportion_of_variance\", proportion_of_variance)\n",
    "print(\"cumulative proportion\", cumulative_proportion)"
   ],
   "metadata": {
    "collapsed": false
   }
  },
  {
   "cell_type": "code",
   "execution_count": 139,
   "outputs": [
    {
     "data": {
      "text/plain": "(array([[-0.47693349, -0.15533159, -0.00635636,  0.11623168,  0.3044427 ,\n         -0.10849325, -0.33718593, -0.47151394,  0.32904173, -0.21371062,\n          0.37475293],\n        [ 0.36378978,  0.016414  ,  0.01880869, -0.03409395, -0.06383884,\n         -0.0869722 , -0.61063276,  0.3073178 ,  0.60128596,  0.07659344,\n         -0.13965633],\n        [-0.30444402, -0.0625153 , -0.03701866, -0.32235949, -0.80237317,\n         -0.06464172, -0.14931026, -0.28726479,  0.02439661,  0.19205128,\n         -0.08857138],\n        [ 0.0551622 , -0.14242496,  0.19761927, -0.35413876,  0.2539601 ,\n         -0.09736269,  0.11895823, -0.00254696,  0.06781599,  0.76348804,\n          0.36953871],\n        [-0.30753507,  0.27760805,  0.07062017, -0.07340475,  0.36139895,\n          0.10793025, -0.12897259, -0.21089912, -0.00312457,  0.28784553,\n         -0.72920859],\n        [ 0.17073819, -0.34783006, -0.3550866 , -0.40651542,  0.20934711,\n         -0.59463206, -0.10324067, -0.07691443, -0.26134151, -0.17822612,\n         -0.21087805],\n        [-0.28051863, -0.05973793,  0.70763705, -0.38594277,  0.03616962,\n         -0.08684577, -0.04044934,  0.36045348, -0.06838452, -0.34961569,\n         -0.02679159],\n        [ 0.01304117, -0.11307868,  0.37593402,  0.58962241, -0.13824084,\n         -0.62779877,  0.14006047, -0.07279193,  0.02953939,  0.17630281,\n         -0.16718101],\n        [ 0.57240278, -0.01846534,  0.40027977, -0.16051227, -0.00284738,\n          0.16619659,  0.07606907, -0.63908592,  0.06699639, -0.1855722 ,\n         -0.07248255],\n        [-0.11028437, -0.66581756, -0.07563413, -0.00533813,  0.00870725,\n          0.23953197,  0.42808739,  0.0791838 ,  0.45439925, -0.03811713,\n         -0.28959188],\n        [ 0.04543901, -0.54161635,  0.14172992,  0.25090987,  0.00164229,\n          0.33926454, -0.48928285,  0.01955226, -0.49006853,  0.15760765,\n         -0.04066227]]),\n 1)"
     },
     "execution_count": 139,
     "metadata": {},
     "output_type": "execute_result"
    }
   ],
   "source": [
    "(MD_pca.components_, 1)"
   ],
   "metadata": {
    "collapsed": false
   }
  },
  {
   "cell_type": "code",
   "execution_count": 140,
   "outputs": [
    {
     "data": {
      "text/plain": "<Figure size 432x288 with 1 Axes>",
      "image/png": "[encoded data removed]"
     },
     "metadata": {
      "needs_background": "light"
     },
     "output_type": "display_data"
    }
   ],
   "source": [
    "MD_x = mcdonalds.iloc[:, 0:11]\n",
    "MD_x = (MD_x == 'Yes') + 0\n",
    "\n",
    "# perform PCA\n",
    "pca = PCA()\n",
    "MD_pca = pca.fit_transform(MD_x)\n",
    "\n",
    "# plot the results\n",
    "fig, ax = plt.subplots()\n",
    "ax.scatter(MD_pca[:, 0], MD_pca[:, 1], c='grey')\n",
    "\n",
    "# add arrows to the plot\n",
    "labels = MD_x.columns\n",
    "for i, label in enumerate(labels):\n",
    "    ax.arrow(0, 0, pca.components_[0, i], pca.components_[1, i],\n",
    "             head_width=0.1, head_length=0.1, fc='k', ec='k')\n",
    "    ax.annotate(label, xy=(pca.components_[0, i], pca.components_[1, i]))\n",
    "\n",
    "# invert the y-axis\n",
    "plt.gca().invert_xaxis()\n",
    "plt.gca().invert_yaxis()\n",
    "\n",
    "# show the plot\n",
    "plt.show()"
   ],
   "metadata": {
    "collapsed": false
   }
  },
  {
   "cell_type": "code",
   "execution_count": 141,
   "outputs": [],
   "source": [
    "from sklearn.cluster import KMeans\n",
    "\n",
    "np.random.seed(1234)\n",
    "results = {}\n",
    "for n_clusters in range(2, 9):\n",
    "    kmeans = KMeans(n_clusters=n_clusters, n_init=10)\n",
    "    kmeans.fit(MD_pca)\n",
    "    results[n_clusters] = kmeans.labels_\n",
    "\n",
    "# Choose the best cluster results based on the silhouette score or another metric\n",
    "best_n_clusters = 2  # example\n",
    "cluster_labels = results[best_n_clusters]"
   ],
   "metadata": {
    "collapsed": false
   }
  },
  {
   "cell_type": "code",
   "execution_count": 142,
   "outputs": [],
   "source": [
    "X = StandardScaler().fit_transform(MD_x)\n",
    "\n",
    "np.random.seed(1234)\n",
    "inertias = []\n",
    "\n",
    "for k in range(2, 9):\n",
    "    kmeans = KMeans(n_clusters=k, n_init=10)\n",
    "    kmeans.fit(X)\n",
    "    inertias.append(kmeans.inertia_)\n",
    "\n",
    "best_k = np.argmin(inertias) + 2\n",
    "MD_km28 = KMeans(n_clusters=best_k, n_init=10).fit(X)"
   ],
   "metadata": {
    "collapsed": false
   }
  },
  {
   "cell_type": "code",
   "execution_count": 142,
   "outputs": [],
   "source": [],
   "metadata": {
    "collapsed": false
   }
  },
  {
   "cell_type": "code",
   "execution_count": 143,
   "outputs": [
    {
     "data": {
      "text/plain": "<Figure size 432x288 with 1 Axes>",
      "image/png": "[encoded data removed]"
     },
     "metadata": {
      "needs_background": "light"
     },
     "output_type": "display_data"
    }
   ],
   "source": [
    "inertias = [KMeans(n_clusters=k, n_init=10).fit(X).inertia_ for k in range(2, 9)]\n",
    "plt.bar(range(2, 9), inertias, align='center')\n",
    "plt.xlabel('number of segments')\n",
    "plt.ylabel('within-cluster sum of squares')\n",
    "plt.show()"
   ],
   "metadata": {
    "collapsed": false
   }
  },
  {
   "cell_type": "code",
   "execution_count": 151,
   "outputs": [],
   "source": [
    "from scipy.spatial.distance import pdist\n",
    "from scipy.cluster.hierarchy import linkage\n",
    "\n",
    "# Calculate the distance matrix\n",
    "MD_dist = pdist(np.transpose(MD_x))\n",
    "\n",
    "# Perform hierarchical clustering\n",
    "MD_vclust = linkage(MD_dist, method='complete')"
   ],
   "metadata": {
    "collapsed": false
   }
  },
  {
   "cell_type": "code",
   "execution_count": 152,
   "outputs": [
    {
     "data": {
      "text/plain": "<Figure size 432x288 with 1 Axes>",
      "image/png": "[encoded data removed]"
     },
     "metadata": {
      "needs_background": "light"
     },
     "output_type": "display_data"
    }
   ],
   "source": [
    "labels = KMeans(n_clusters=4, random_state=1234).fit_predict(MD_x)\n",
    "\n",
    "# Count the number of samples in each cluster\n",
    "counts = np.bincount(labels)\n",
    "\n",
    "# Calculate the percentage of samples in each cluster\n",
    "percentages = counts / len(labels) * 100\n",
    "\n",
    "# Create the bar chart\n",
    "fig, ax = plt.subplots()\n",
    "ax.bar(range(1, 5), percentages)\n",
    "ax.set_xticks(range(1, 5))\n",
    "ax.set_xlabel('Cluster')\n",
    "ax.set_ylabel('Percent of Total')\n",
    "plt.show()"
   ],
   "metadata": {
    "collapsed": false
   }
  }
 ],
 "metadata": {
  "kernelspec": {
   "display_name": "Python 3",
   "language": "python",
   "name": "python3"
  },
  "language_info": {
   "codemirror_mode": {
    "name": "ipython",
    "version": 2
   },
   "file_extension": ".py",
   "mimetype": "text/x-python",
   "name": "python",
   "nbconvert_exporter": "python",
   "pygments_lexer": "ipython2",
   "version": "2.7.6"
  }
 },
 "nbformat": 4,
 "nbformat_minor": 0
}
